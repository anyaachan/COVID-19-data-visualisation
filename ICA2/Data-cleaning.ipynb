{
 "cells": [
  {
   "cell_type": "markdown",
   "id": "4e797be2",
   "metadata": {},
   "source": [
    "#### Importing necessary libraries\n",
    "- pandas -- the library for\n",
    "- seaborn -- the library for plotting "
   ]
  },
  {
   "cell_type": "code",
   "execution_count": 140,
   "id": "c7a6fe57",
   "metadata": {},
   "outputs": [],
   "source": [
    "import pandas as pd\n",
    "import numpy as np\n",
    "import seaborn as sns\n",
    "import matplotlib.pyplot as plt\n",
    "%matplotlib inline"
   ]
  },
  {
   "cell_type": "markdown",
   "id": "402ba6d6",
   "metadata": {},
   "source": [
    "#### Reading the csv file"
   ]
  },
  {
   "cell_type": "code",
   "execution_count": 141,
   "id": "647c46ce",
   "metadata": {},
   "outputs": [],
   "source": [
    "df = pd.read_csv(\"/Users/anna-alexandradanchenko/Documents/University/PF/ICA2/resources/covid-data.csv\")"
   ]
  },
  {
   "cell_type": "markdown",
   "id": "35cc4f1a",
   "metadata": {},
   "source": [
    "#### Renaming the columns"
   ]
  },
  {
   "cell_type": "code",
   "execution_count": 142,
   "id": "9ca9bf62",
   "metadata": {},
   "outputs": [],
   "source": [
    "df.rename({\"new_cases\": \"New cases\", \"new_deaths\": \"New deaths\",\n",
    "          \"location\": \"Country\"}, axis=1, inplace=True)"
   ]
  },
  {
   "cell_type": "code",
   "execution_count": 143,
   "id": "dbe39e77",
   "metadata": {},
   "outputs": [],
   "source": [
    "df['Month'] = pd.to_datetime(df['date']).dt.to_period('M')"
   ]
  },
  {
   "cell_type": "markdown",
   "id": "f184ecd9",
   "metadata": {},
   "source": [
    "#### Handling missing data\n",
    "Firstly, we should delete the rows where the \"continent\" value is missing. In our dataset, if the continent is not determined, the country is not valid (for example: \"World\", \"Asia\", etc.)"
   ]
  },
  {
   "cell_type": "code",
   "execution_count": 144,
   "id": "5764c885",
   "metadata": {},
   "outputs": [],
   "source": [
    "df = df.dropna(axis=0, subset=['continent'])"
   ]
  },
  {
   "cell_type": "markdown",
   "id": "199ed083",
   "metadata": {},
   "source": [
    "We can also delete the rows in column \"iso_code\" that start with \"OWID\". They are not valid countries, as they don't have valid iso_code. For example: \"Wales\", \"Scotland\", etc.\n"
   ]
  },
  {
   "cell_type": "code",
   "execution_count": 145,
   "id": "ba539be7",
   "metadata": {},
   "outputs": [],
   "source": [
    "df = df[~df[\"iso_code\"].astype(str).str.startswith('OWID')]"
   ]
  },
  {
   "cell_type": "markdown",
   "id": "1986d31e",
   "metadata": {},
   "source": [
    "For some small islands in Oceania we don't have any data. We also don't have any data for such countries as Turkmenistan, North Korea, etc. Let's delete them. It can be done using for cycle. "
   ]
  },
  {
   "cell_type": "code",
   "execution_count": 146,
   "id": "fa344210",
   "metadata": {},
   "outputs": [],
   "source": [
    "locations_todrop = [\"Turkmenistan\", \"Tuvalu\", \"North Korea\", \"Niue\", \"Nauru\", \"Tonga\", \"Micronesia\", \"Marshall Islands\",\n",
    "                    \"Anguilla\", \"Jersey\", \"Guam\", \"Guernsey\", \"United States Virgin Islands\", \"Sint Maarten (Dutch part)\",\n",
    "                    \"Falkland Islands\", \"Northern Mariana Islands\"]\n",
    "for location in locations_todrop:\n",
    "    df = df[~df[\"Country\"].astype(str).str.startswith(location)]"
   ]
  },
  {
   "cell_type": "markdown",
   "id": "9c60bf8d",
   "metadata": {},
   "source": [
    "#### Optimizing dataset by leaving only necessary columns\n",
    "Defining variable in which we store columns that we need and then leaving only selected columns. "
   ]
  },
  {
   "cell_type": "code",
   "execution_count": 147,
   "id": "52307305",
   "metadata": {},
   "outputs": [],
   "source": [
    "to_leave = [\"Country\", \"New cases\", \"New deaths\", \"date\", \"Month\", \"continent\"]\n",
    "df = df[to_leave]  # Leaving only selected columns."
   ]
  },
  {
   "cell_type": "markdown",
   "id": "e141d847",
   "metadata": {},
   "source": [
    "#### Checking the percentage of missing data in the columns\n",
    "Firstly, let's determine the number of NaNs in \"new cases\" and \"new deaths\" columns."
   ]
  },
  {
   "cell_type": "markdown",
   "id": "e527c4ac",
   "metadata": {},
   "source": [
    "Then, let's determine the percent of NaNs in both columns"
   ]
  },
  {
   "cell_type": "code",
   "execution_count": 148,
   "id": "ee74266e",
   "metadata": {},
   "outputs": [
    {
     "name": "stdout",
     "output_type": "stream",
     "text": [
      "1.2125971354379947 8.909722456412505\n"
     ]
    }
   ],
   "source": [
    "def nans_percent_check():\n",
    "    nans_cases = df['New cases'].isnull().sum()\n",
    "    nans_deaths = df['New deaths'].isnull().sum()\n",
    "    rows_number = len(df.index)\n",
    "    nans_percent_cases = nans_cases / rows_number * 100\n",
    "    nans_percent_deaths = nans_deaths / rows_number * 100\n",
    "    return(print(nans_percent_cases, nans_percent_deaths))\n",
    "nans_percent_check()"
   ]
  },
  {
   "cell_type": "markdown",
   "id": "e7f790cf",
   "metadata": {},
   "source": [
    "Let's plot the sum of Nans grouped by column \"New cases\" in \"New deaths\" column. \n",
    "We can see"
   ]
  },
  {
   "cell_type": "code",
   "execution_count": 149,
   "id": "8ed8ed60",
   "metadata": {},
   "outputs": [],
   "source": [
    "df[\"nans_deaths\"] = df['New deaths'].isnull()\n",
    "df2 = df.groupby([\"New cases\"])[[\"nans_deaths\"]].sum()\n",
    "df2 = df2.reset_index(drop=False)"
   ]
  },
  {
   "cell_type": "code",
   "execution_count": 150,
   "id": "dd07dd0f",
   "metadata": {},
   "outputs": [],
   "source": [
    "#df2['Month'] = df2['Month'].astype(str)\n",
    "#df2['Month'] = pd.to_datetime(df2['Month'])"
   ]
  },
  {
   "cell_type": "code",
   "execution_count": 175,
   "id": "6fa91425",
   "metadata": {},
   "outputs": [
    {
     "data": {
      "text/plain": [
       "<seaborn.axisgrid.FacetGrid at 0x14d22ed70>"
      ]
     },
     "execution_count": 175,
     "metadata": {},
     "output_type": "execute_result"
    },
    {
     "data": {
      "image/png": "[encoded data removed]",
      "text/plain": [
       "<Figure size 500x500 with 1 Axes>"
      ]
     },
     "metadata": {},
     "output_type": "display_data"
    }
   ],
   "source": [
    "ax = sns.relplot(x = 'New cases', y = 'nans_deaths', kind = 'line', data = df2)\n",
    "ax.set(xlim=(0, 100))\n"
   ]
  },
  {
   "cell_type": "code",
   "execution_count": 176,
   "metadata": {},
   "outputs": [
    {
     "name": "stderr",
     "output_type": "stream",
     "text": [
      "/var/folders/6p/1jmnvrkx7jxdslfr99shm1z00000gn/T/ipykernel_27702/1692327.py:2: SettingWithCopyWarning: \n",
      "A value is trying to be set on a copy of a slice from a DataFrame.\n",
      "Try using .loc[row_indexer,col_indexer] = value instead\n",
      "\n",
      "See the caveats in the documentation: https://pandas.pydata.org/pandas-docs/stable/user_guide/indexing.html#returning-a-view-versus-a-copy\n",
      "  cases_low[\"New deaths\"] = cases_low[\"New deaths\"].replace(np.nan, 0)\n",
      "/var/folders/6p/1jmnvrkx7jxdslfr99shm1z00000gn/T/ipykernel_27702/1692327.py:4: FutureWarning: In a future version, `df.iloc[:, i] = newvals` will attempt to set the values inplace instead of always setting a new array. To retain the old behavior, use either `df[df.columns[i]] = newvals` or, if columns are non-unique, `df.isetitem(i, newvals)`\n",
      "  df.update(cases_low)\n"
     ]
    }
   ],
   "source": [
    "cases_low = df[df[\"New cases\"] < 10.0]\n",
    "cases_low[\"New deaths\"] = cases_low[\"New deaths\"].replace(np.nan, 0)\n",
    "\n",
    "df.update(cases_low)"
   ]
  },
  {
   "cell_type": "code",
   "execution_count": 177,
   "id": "28ce210e",
   "metadata": {},
   "outputs": [
    {
     "name": "stdout",
     "output_type": "stream",
     "text": [
      "1.2125971354379947 1.6929147135197113\n"
     ]
    }
   ],
   "source": [
    "nans_percent_check()"
   ]
  },
  {
   "cell_type": "markdown",
   "id": "82a0eb40",
   "metadata": {},
   "source": [
    "Let's remove \"nans_deaths\" column. We don't need it anymore"
   ]
  },
  {
   "cell_type": "code",
   "execution_count": 183,
   "id": "2b2f6349",
   "metadata": {},
   "outputs": [],
   "source": [
    "df = df.drop(\"nans_deaths\", axis = 1)"
   ]
  },
  {
   "cell_type": "markdown",
   "id": "6d7e46de",
   "metadata": {},
   "source": [
    "#### Converting columns to suitable type"
   ]
  },
  {
   "cell_type": "code",
   "execution_count": 184,
   "id": "c3416316",
   "metadata": {},
   "outputs": [],
   "source": [
    "df[\"date\"] = pd.to_datetime(df[\"date\"])\n",
    "df[\"Country\"] = df[\"Country\"].astype(str)\n",
    "df[\"continent\"] = df[\"continent\"].astype(str)"
   ]
  },
  {
   "cell_type": "markdown",
   "id": "05d7ade3",
   "metadata": {},
   "source": [
    "Outputting the dataframe information in order to examine datatypes. As you can see, the dtypes of \"Country\" and \"continent\" columns are still \"object\". That is because dtype of string, dict, list is always object. "
   ]
  },
  {
   "cell_type": "code",
   "execution_count": 185,
   "id": "1afbc87c",
   "metadata": {},
   "outputs": [
    {
     "name": "stdout",
     "output_type": "stream",
     "text": [
      "<class 'pandas.core.frame.DataFrame'>\n",
      "Int64Index: 207571 entries, 0 to 237476\n",
      "Data columns (total 6 columns):\n",
      " #   Column      Non-Null Count   Dtype         \n",
      "---  ------      --------------   -----         \n",
      " 0   Country     207571 non-null  object        \n",
      " 1   New cases   205054 non-null  float64       \n",
      " 2   New deaths  204057 non-null  float64       \n",
      " 3   date        207571 non-null  datetime64[ns]\n",
      " 4   Month       207571 non-null  period[M]     \n",
      " 5   continent   207571 non-null  object        \n",
      "dtypes: datetime64[ns](1), float64(2), object(2), period[M](1)\n",
      "memory usage: 11.1+ MB\n",
      "None\n"
     ]
    }
   ],
   "source": [
    "print(df.info())"
   ]
  },
  {
   "cell_type": "markdown",
   "id": "37ba6c93",
   "metadata": {},
   "source": [
    "Now, let's get the 10 random rows to have more global perspective"
   ]
  },
  {
   "cell_type": "code",
   "execution_count": 186,
   "id": "ec41931f",
   "metadata": {
    "scrolled": true
   },
   "outputs": [
    {
     "name": "stdout",
     "output_type": "stream",
     "text": [
      "        Country  New cases  New deaths       date    Month      continent\n",
      "105766    Italy   101863.0       105.0 2022-07-08  2022-07         Europe\n",
      "37693    Canada     9466.0        33.0 2022-03-22  2022-03  North America\n",
      "207413   Taiwan        0.0         0.0 2021-04-08  2021-04           Asia\n",
      "200885    Spain        0.0         0.0 2022-09-22  2022-09         Europe\n",
      "207231   Taiwan        1.0         0.0 2020-10-08  2020-10           Asia\n",
      "24919    Bhutan        0.0         0.0 2022-07-28  2022-07           Asia\n",
      "170776   Poland      211.0        52.0 2021-06-15  2021-06         Europe\n",
      "182577    Samoa        0.0         0.0 2022-10-15  2022-10        Oceania\n",
      "106179  Jamaica       98.0         1.0 2020-12-09  2020-12  North America\n",
      "75280    France        0.0         0.0 2022-08-13  2022-08         Europe\n"
     ]
    }
   ],
   "source": [
    "print(df.sample(10)) "
   ]
  },
  {
   "cell_type": "markdown",
   "id": "e1f52a3d",
   "metadata": {},
   "source": [
    "#### Exporting cleaned data\n",
    "Exporting tidy dataset into a new file."
   ]
  },
  {
   "cell_type": "code",
   "execution_count": 187,
   "id": "df805c30",
   "metadata": {},
   "outputs": [],
   "source": [
    "df.to_csv(\"data-cleaned.csv\")"
   ]
  }
 ],
 "metadata": {
  "kernelspec": {
   "display_name": "Python 3.10.6 64-bit",
   "language": "python",
   "name": "python3"
  },
  "language_info": {
   "codemirror_mode": {
    "name": "ipython",
    "version": 3
   },
   "file_extension": ".py",
   "mimetype": "text/x-python",
   "name": "python",
   "nbconvert_exporter": "python",
   "pygments_lexer": "ipython3",
   "version": "3.10.6"
  },
  "vscode": {
   "interpreter": {
    "hash": "b0fa6594d8f4cbf19f97940f81e996739fb7646882a419484c72d19e05852a7e"
   }
  }
 },
 "nbformat": 4,
 "nbformat_minor": 5
}
