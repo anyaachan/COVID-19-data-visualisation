{
 "cells": [
  {
   "cell_type": "markdown",
   "id": "4e797be2",
   "metadata": {},
   "source": [
    "#### Importing necessary libraries\n",
    "- Pandas is the library used for the data manipulation and analysis\n",
    "- Numpy is the library that provides a range of tools and functions that make it easy to perform mathematical operations\n",
    "- Seaborn is a data visualisation library. It is built on top of the Matplotlib library.\n",
    "- Matplotlib is a data visualisation library. It is used as the foundation for many other higher-level plotting libraries, such as Seaborn."
   ]
  },
  {
   "cell_type": "code",
   "execution_count": 55,
   "id": "c7a6fe57",
   "metadata": {},
   "outputs": [],
   "source": [
    "import pandas as pd\n",
    "import numpy as np\n",
    "import seaborn as sns\n",
    "import matplotlib.pyplot as plt\n",
    "%matplotlib inline"
   ]
  },
  {
   "cell_type": "markdown",
   "id": "402ba6d6",
   "metadata": {},
   "source": [
    "#### Reading the csv file\n",
    "The CSV file is read and placed in a dataframe named **df**."
   ]
  },
  {
   "cell_type": "code",
   "execution_count": 56,
   "id": "647c46ce",
   "metadata": {},
   "outputs": [],
   "source": [
    "df = pd.read_csv(\"/Users/anna-alexandradanchenko/Documents/University/PF/ICA2/resources/covid-data.csv\")"
   ]
  },
  {
   "cell_type": "markdown",
   "id": "35cc4f1a",
   "metadata": {},
   "source": [
    "#### Renaming the columns"
   ]
  },
  {
   "cell_type": "markdown",
   "id": "c19b41e6",
   "metadata": {},
   "source": [
    "The columns have been renamed to improve readability. As we are only using a limited number of columns from the dataset, we have only renamed one of the columns. The new name of the column is more descriptive and intuitive than the original name."
   ]
  },
  {
   "cell_type": "code",
   "execution_count": 57,
   "id": "9ca9bf62",
   "metadata": {},
   "outputs": [],
   "source": [
    "df.rename({\"location\": \"country\"}, axis=1, inplace=True)"
   ]
  },
  {
   "cell_type": "markdown",
   "id": "14fb86d7",
   "metadata": {},
   "source": [
    "#### Creating new columns\n",
    "The \"Month\" column will help with grouping data and building more readable and optimized graphs. "
   ]
  },
  {
   "cell_type": "code",
   "execution_count": 58,
   "id": "dbe39e77",
   "metadata": {},
   "outputs": [],
   "source": [
    "df['Month'] = pd.to_datetime(df['date']).dt.to_period('M')"
   ]
  },
  {
   "cell_type": "markdown",
   "id": "f184ecd9",
   "metadata": {},
   "source": [
    "#### Handling missing data\n",
    "The rows where the value in the \"continent\" column is missing should be removed. In the dataset used, if the continent is missing, the corresponding country does not exist (e.g. \"World\" or \"Asia\", etc)."
   ]
  },
  {
   "cell_type": "code",
   "execution_count": 59,
   "id": "5764c885",
   "metadata": {},
   "outputs": [],
   "source": [
    "df = df.dropna(axis=0, subset=['continent'])"
   ]
  },
  {
   "cell_type": "markdown",
   "id": "199ed083",
   "metadata": {},
   "source": [
    "In column \"iso_code\", rows that begin with \"OWID\" can be removed. These rows do not correspond to valid countries as they do not have a valid iso_code. Examples include \"Wales\", \"Scotland\", etc."
   ]
  },
  {
   "cell_type": "code",
   "execution_count": 60,
   "id": "ba539be7",
   "metadata": {},
   "outputs": [],
   "source": [
    "df = df[~df[\"iso_code\"].astype(str).str.startswith('OWID')]"
   ]
  },
  {
   "cell_type": "markdown",
   "id": "1986d31e",
   "metadata": {},
   "source": [
    "For some small islands in Oceania we don't have any data. We also don't have any data for such countries as Turkmenistan, North Korea, etc. Let's delete them. It can be done using For Loop. "
   ]
  },
  {
   "cell_type": "code",
   "execution_count": 61,
   "id": "fa344210",
   "metadata": {},
   "outputs": [],
   "source": [
    "locations_todrop = [\"Turkmenistan\", \"Tuvalu\", \"North Korea\", \"Niue\", \"Nauru\", \"Tonga\", \"Anguilla\", \"Jersey\", \n",
    "                    \"Guam\", \"Guernsey\", \"United States Virgin Islands\", \"Sint Maarten (Dutch part)\", \"Northern Mariana Islands\",\n",
    "                    \"Pitcairn\"]\n",
    "for location in locations_todrop:\n",
    "    df = df[~df[\"country\"].astype(str).str.startswith(location)]"
   ]
  },
  {
   "cell_type": "markdown",
   "id": "9c60bf8d",
   "metadata": {},
   "source": [
    "#### Optimizing dataset by leaving only necessary columns\n",
    "We define a variable to store the columns that we need, and then use this variable to retain only those columns in the dataframe. This allows us to exclude any unnecessary columns from the dataframe. \n",
    "\n",
    "I've chosen this columns because they represent the data we need to analyse pandemic, such as number of new cases, number of new deaths, the date, location. "
   ]
  },
  {
   "cell_type": "code",
   "execution_count": 62,
   "id": "52307305",
   "metadata": {},
   "outputs": [],
   "source": [
    "to_leave = [\"country\", \"new_cases\", \"new_deaths\", \"date\", \"Month\", \"continent\"]\n",
    "df = df[to_leave]  # Leaving only selected columns."
   ]
  },
  {
   "cell_type": "markdown",
   "id": "e141d847",
   "metadata": {},
   "source": [
    "#### Checking the percentage of missing data in the columns\n",
    "To calculate the percentage of missing data in the \"new cases\" and \"new deaths\" columns, the following steps should be performed:\n",
    "\n",
    "- Determine the number of NaNs in each column\n",
    "- Determine the total number of rows in the dataset\n",
    "- Calculate the percentage of missing values in each column using the formula: **(number of NaNs / number of rows) * 100**\n",
    "\n",
    "Let's put the code in function **nans_percent_check**, as we are going to use it in the future. "
   ]
  },
  {
   "cell_type": "code",
   "execution_count": 63,
   "id": "ee74266e",
   "metadata": {},
   "outputs": [
    {
     "name": "stdout",
     "output_type": "stream",
     "text": [
      "1.077730090605627 9.72484501669051\n"
     ]
    }
   ],
   "source": [
    "def nans_percent_check():\n",
    "    nans_cases = df['new_cases'].isnull().sum()\n",
    "    nans_deaths = df['new_deaths'].isnull().sum()\n",
    "\n",
    "    rows_number = len(df.index)\n",
    "\n",
    "    nans_percent_cases = nans_cases / rows_number * 100\n",
    "    nans_percent_deaths = nans_deaths / rows_number * 100\n",
    "    \n",
    "    return(print(nans_percent_cases, nans_percent_deaths))\n",
    "nans_percent_check()"
   ]
  },
  {
   "cell_type": "markdown",
   "id": "6c1564cd",
   "metadata": {},
   "source": [
    "In the \"new_cases\" column, the percentage of missing values (NaNs) is below 2%, which falls within an acceptable margin of error. However, the \"new_deaths\" column has a higher percentage of NaNs at 10%, which is too high. Further investigation is needed to determine a solution for this issue."
   ]
  },
  {
   "cell_type": "markdown",
   "id": "11c792b6",
   "metadata": {},
   "source": [
    "##### Plotting\n",
    "In our dataset, the deaths data is missing on the beginning of pandemic or in cases where there are no deaths. In order to check it, let's count the sum of the NaNs for each value in the column \"new_cases\". \n",
    "\n",
    "Firstly, we create the new column \"nans_death\" in which we store Bool value. If the value in \"new_deaths\" column is missing, the value in \"nans_deaths\" is true. If not, it is false. \n",
    "\n"
   ]
  },
  {
   "cell_type": "code",
   "execution_count": 64,
   "id": "7045cd4d",
   "metadata": {},
   "outputs": [],
   "source": [
    "df[\"nans_deaths\"] = df['new_deaths'].isnull()"
   ]
  },
  {
   "cell_type": "markdown",
   "id": "2680746e",
   "metadata": {},
   "source": [
    "Then, we are creating the new dataframe in which we store **df** with sum of \"nans_deaths\" grouped by new cases. We reset the index in df2 in order for it to be sequential."
   ]
  },
  {
   "cell_type": "code",
   "execution_count": 65,
   "id": "8ed8ed60",
   "metadata": {},
   "outputs": [],
   "source": [
    "df2 = df.groupby([\"new_cases\"])[[\"nans_deaths\"]].sum()\n",
    "df2 = df2.reset_index(drop=False)"
   ]
  },
  {
   "cell_type": "markdown",
   "id": "7527ccfb",
   "metadata": {},
   "source": [
    "Now, let's create a plot."
   ]
  },
  {
   "cell_type": "code",
   "execution_count": 66,
   "id": "6fa91425",
   "metadata": {},
   "outputs": [
    {
     "data": {
      "text/plain": [
       "<seaborn.axisgrid.FacetGrid at 0x177e06b90>"
      ]
     },
     "execution_count": 66,
     "metadata": {},
     "output_type": "execute_result"
    },
    {
     "data": {
      "image/png": "[encoded data removed]",
      "text/plain": [
       "<Figure size 500x500 with 1 Axes>"
      ]
     },
     "metadata": {},
     "output_type": "display_data"
    }
   ],
   "source": [
    "ax = sns.relplot(x = 'new_cases', y = 'nans_deaths', kind = 'line', data = df2)\n",
    "ax.set(xlim=(0, 100))\n"
   ]
  },
  {
   "cell_type": "markdown",
   "id": "a195042f",
   "metadata": {},
   "source": [
    "As demonstrated by the plot, the majority of rows with missing values in the \"new_deaths\" column correspond to small values in the \"new_cases\" column. This suggests that when the number of new cases is low and no deaths are reported, there is no data available for the \"new_deaths\" column.\n",
    "\n",
    "Based on this observation, we can replace the NaN values in the \"new_deaths\" column with a 0 if the corresponding \"new_cases\" value is less than 10. "
   ]
  },
  {
   "cell_type": "code",
   "execution_count": 67,
   "metadata": {},
   "outputs": [
    {
     "name": "stderr",
     "output_type": "stream",
     "text": [
      "/var/folders/6p/1jmnvrkx7jxdslfr99shm1z00000gn/T/ipykernel_34920/2206289710.py:2: SettingWithCopyWarning: \n",
      "A value is trying to be set on a copy of a slice from a DataFrame.\n",
      "Try using .loc[row_indexer,col_indexer] = value instead\n",
      "\n",
      "See the caveats in the documentation: https://pandas.pydata.org/pandas-docs/stable/user_guide/indexing.html#returning-a-view-versus-a-copy\n",
      "  cases_low[\"new_deaths\"] = cases_low[\"new_deaths\"].replace(np.nan, 0)\n",
      "/var/folders/6p/1jmnvrkx7jxdslfr99shm1z00000gn/T/ipykernel_34920/2206289710.py:4: FutureWarning: In a future version, `df.iloc[:, i] = newvals` will attempt to set the values inplace instead of always setting a new array. To retain the old behavior, use either `df[df.columns[i]] = newvals` or, if columns are non-unique, `df.isetitem(i, newvals)`\n",
      "  df.update(cases_low)\n"
     ]
    }
   ],
   "source": [
    "cases_low = df[(df[\"new_cases\"] < 10.0)]\n",
    "cases_low[\"new_deaths\"] = cases_low[\"new_deaths\"].replace(np.nan, 0)\n",
    "\n",
    "df.update(cases_low)"
   ]
  },
  {
   "cell_type": "markdown",
   "id": "7e59164f",
   "metadata": {},
   "source": [
    "Let's check the percent of missing data in \"new_cases\" and \"new_deaths\" columns after completing the above steps. "
   ]
  },
  {
   "cell_type": "code",
   "execution_count": 68,
   "id": "28ce210e",
   "metadata": {},
   "outputs": [
    {
     "name": "stdout",
     "output_type": "stream",
     "text": [
      "1.077730090605627 1.559847401049118\n"
     ]
    }
   ],
   "source": [
    "nans_percent_check()"
   ]
  },
  {
   "cell_type": "markdown",
   "id": "b420fcc3",
   "metadata": {},
   "source": [
    "Now, the margin of error in \"new_deaths\" column is 1.77, which is a satisfactory value. We can ignore it. "
   ]
  },
  {
   "cell_type": "markdown",
   "id": "82a0eb40",
   "metadata": {},
   "source": [
    "Let's remove \"nans_deaths\" column. We don't need it anymore"
   ]
  },
  {
   "cell_type": "code",
   "execution_count": 69,
   "id": "2b2f6349",
   "metadata": {},
   "outputs": [],
   "source": [
    "df = df.drop(\"nans_deaths\", axis = 1)"
   ]
  },
  {
   "cell_type": "markdown",
   "id": "6d7e46de",
   "metadata": {},
   "source": [
    "#### Converting columns to suitable type"
   ]
  },
  {
   "cell_type": "code",
   "execution_count": null,
   "id": "c3416316",
   "metadata": {},
   "outputs": [],
   "source": [
    "df[\"date\"] = pd.to_datetime(df[\"date\"])\n",
    "df[\"country\"] = df[\"country\"].astype(str)\n",
    "df[\"continent\"] = df[\"continent\"].astype(str)\n",
    "\n",
    "df['Month'] = df['Month'].astype(str)\n",
    "df['Month'] = pd.to_datetime(df['Month'])"
   ]
  },
  {
   "cell_type": "markdown",
   "id": "05d7ade3",
   "metadata": {},
   "source": [
    "In order to examine the datatypes of the columns in the dataframe, we output the information from the dataframe using .info() method. The resulting dtypes of the \"country\" and \"continent\" columns are still \"object\". This is because the dtype of string, dict, and list is always \"object\" in Python."
   ]
  },
  {
   "cell_type": "code",
   "execution_count": 155,
   "id": "1afbc87c",
   "metadata": {},
   "outputs": [
    {
     "name": "stdout",
     "output_type": "stream",
     "text": [
      "<class 'pandas.core.frame.DataFrame'>\n",
      "RangeIndex: 6268 entries, 0 to 6267\n",
      "Data columns (total 4 columns):\n",
      " #   Column      Non-Null Count  Dtype         \n",
      "---  ------      --------------  -----         \n",
      " 0   continent   6268 non-null   object        \n",
      " 1   date        6268 non-null   datetime64[ns]\n",
      " 2   new_cases   6268 non-null   float64       \n",
      " 3   new_deaths  6268 non-null   float64       \n",
      "dtypes: datetime64[ns](1), float64(2), object(1)\n",
      "memory usage: 196.0+ KB\n",
      "None\n"
     ]
    }
   ],
   "source": [
    "print(df.info())"
   ]
  },
  {
   "cell_type": "markdown",
   "id": "37ba6c93",
   "metadata": {},
   "source": [
    "Now, let's get the 10 random rows to have more global perspective"
   ]
  },
  {
   "cell_type": "code",
   "execution_count": 156,
   "id": "ec41931f",
   "metadata": {
    "scrolled": true
   },
   "outputs": [
    {
     "name": "stdout",
     "output_type": "stream",
     "text": [
      "          continent       date  new_cases  new_deaths\n",
      "3917  North America 2022-03-12    31148.0       799.0\n",
      "141          Africa 2020-06-27    12237.0       202.0\n",
      "3004         Europe 2022-08-05   217490.0      1101.0\n",
      "5248  South America 2020-02-09        0.0         0.0\n",
      "66           Africa 2020-04-13      772.0        45.0\n",
      "5696  South America 2021-05-02    82500.0      2921.0\n",
      "636          Africa 2021-11-04     5001.0       195.0\n",
      "2473         Europe 2021-02-20   134167.0      2994.0\n",
      "5020        Oceania 2022-05-20    53626.0        49.0\n",
      "4364        Oceania 2020-08-02      444.0        13.0\n"
     ]
    }
   ],
   "source": [
    "print(df.sample(10)) "
   ]
  },
  {
   "cell_type": "markdown",
   "id": "e1f52a3d",
   "metadata": {},
   "source": [
    "#### Exporting cleaned data\n",
    "Exporting tidy dataset into a new file."
   ]
  },
  {
   "cell_type": "code",
   "execution_count": 157,
   "id": "df805c30",
   "metadata": {},
   "outputs": [],
   "source": [
    "df.to_csv(\"data-cleaned.csv\")"
   ]
  }
 ],
 "metadata": {
  "kernelspec": {
   "display_name": "Python 3.10.6 64-bit",
   "language": "python",
   "name": "python3"
  },
  "language_info": {
   "codemirror_mode": {
    "name": "ipython",
    "version": 3
   },
   "file_extension": ".py",
   "mimetype": "text/x-python",
   "name": "python",
   "nbconvert_exporter": "python",
   "pygments_lexer": "ipython3",
   "version": "3.10.6"
  },
  "vscode": {
   "interpreter": {
    "hash": "b0fa6594d8f4cbf19f97940f81e996739fb7646882a419484c72d19e05852a7e"
   }
  }
 },
 "nbformat": 4,
 "nbformat_minor": 5
}
