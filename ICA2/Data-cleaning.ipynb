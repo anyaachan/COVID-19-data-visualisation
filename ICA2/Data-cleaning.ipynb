{
 "cells": [
  {
   "cell_type": "code",
   "execution_count": 21,
   "id": "c7a6fe57",
   "metadata": {},
   "outputs": [],
   "source": [
    "import pandas as pd\n",
    "import seaborn as sns"
   ]
  },
  {
   "cell_type": "code",
   "execution_count": 22,
   "id": "647c46ce",
   "metadata": {},
   "outputs": [],
   "source": [
    "df = pd.read_csv(\"/Users/anna-alexandradanchenko/Documents/University/PF/ICA2/resources/covid-data.csv\")"
   ]
  },
  {
   "cell_type": "code",
   "execution_count": 23,
   "id": "9ca9bf62",
   "metadata": {},
   "outputs": [],
   "source": [
    "df.rename({\"new_cases\": \"New cases\", \"new_deaths\": \"New deaths\",\n",
    "          \"location\": \"Country\"}, axis=1, inplace=True)"
   ]
  },
  {
   "cell_type": "markdown",
   "id": "ceb85916",
   "metadata": {},
   "source": [
    "#### Deleting specific rows with null values \n",
    "If the continent is null in our dataset, it means that the country is not valid (for example: \"World\", \"Asia\", etc.) "
   ]
  },
  {
   "cell_type": "code",
   "execution_count": 24,
   "id": "5764c885",
   "metadata": {},
   "outputs": [],
   "source": [
    "df = df.dropna(axis=0, subset=['continent'])"
   ]
  },
  {
   "cell_type": "code",
   "execution_count": 25,
   "id": "c3416316",
   "metadata": {},
   "outputs": [],
   "source": [
    "df[\"date\"] = pd.to_datetime(df[\"date\"])"
   ]
  },
  {
   "cell_type": "markdown",
   "id": "a981ce53",
   "metadata": {},
   "source": [
    "#### Creating a new variable\n",
    "Creating a new variable \"Month\" in which we store month of the year. It will help us with cholopleth graph."
   ]
  },
  {
   "cell_type": "code",
   "execution_count": 26,
   "id": "e4e78d85",
   "metadata": {},
   "outputs": [],
   "source": [
    "df['Month'] = pd.to_datetime(df['date']).dt.to_period('M')"
   ]
  },
  {
   "cell_type": "markdown",
   "id": "9c60bf8d",
   "metadata": {},
   "source": [
    "#### Optimizing dataset by leaving only necessary columns\n",
    "Defining variable in which we store columns that we need and then leaving only selected columns. "
   ]
  },
  {
   "cell_type": "code",
   "execution_count": 27,
   "id": "056f469c",
   "metadata": {},
   "outputs": [],
   "source": [
    "to_leave = [\"Country\", \"New cases\", \"New deaths\", \"date\", \"Month\", \"continent\"]\n",
    "df = df[to_leave]  # Leaving only selected columns."
   ]
  },
  {
   "cell_type": "markdown",
   "id": "37ba6c93",
   "metadata": {},
   "source": [
    " Getting the first 10 entries using head() method. Getting info about the dataset. "
   ]
  },
  {
   "cell_type": "code",
   "execution_count": 28,
   "id": "ec41931f",
   "metadata": {
    "scrolled": true
   },
   "outputs": [
    {
     "name": "stdout",
     "output_type": "stream",
     "text": [
      "       Country  New cases  New deaths       date    Month continent\n",
      "0  Afghanistan        5.0         NaN 2020-02-24  2020-02      Asia\n",
      "1  Afghanistan        0.0         NaN 2020-02-25  2020-02      Asia\n",
      "2  Afghanistan        0.0         NaN 2020-02-26  2020-02      Asia\n",
      "3  Afghanistan        0.0         NaN 2020-02-27  2020-02      Asia\n",
      "4  Afghanistan        0.0         NaN 2020-02-28  2020-02      Asia\n",
      "5  Afghanistan        0.0         NaN 2020-02-29  2020-02      Asia\n",
      "6  Afghanistan        0.0         NaN 2020-03-01  2020-03      Asia\n",
      "7  Afghanistan        0.0         NaN 2020-03-02  2020-03      Asia\n",
      "8  Afghanistan        0.0         NaN 2020-03-03  2020-03      Asia\n",
      "9  Afghanistan        0.0         NaN 2020-03-04  2020-03      Asia\n",
      "<class 'pandas.core.frame.DataFrame'>\n",
      "Int64Index: 224089 entries, 0 to 237476\n",
      "Data columns (total 6 columns):\n",
      " #   Column      Non-Null Count   Dtype         \n",
      "---  ------      --------------   -----         \n",
      " 0   Country     224089 non-null  object        \n",
      " 1   New cases   210406 non-null  float64       \n",
      " 2   New deaths  191312 non-null  float64       \n",
      " 3   date        224089 non-null  datetime64[ns]\n",
      " 4   Month       224089 non-null  period[M]     \n",
      " 5   continent   224089 non-null  object        \n",
      "dtypes: datetime64[ns](1), float64(2), object(2), period[M](1)\n",
      "memory usage: 12.0+ MB\n",
      "None\n"
     ]
    }
   ],
   "source": [
    "print(df.head(10)) \n",
    "print(df.info())"
   ]
  }
 ],
 "metadata": {
  "kernelspec": {
   "display_name": "Python 3 (ipykernel)",
   "language": "python",
   "name": "python3"
  },
  "language_info": {
   "codemirror_mode": {
    "name": "ipython",
    "version": 3
   },
   "file_extension": ".py",
   "mimetype": "text/x-python",
   "name": "python",
   "nbconvert_exporter": "python",
   "pygments_lexer": "ipython3",
   "version": "3.10.6"
  }
 },
 "nbformat": 4,
 "nbformat_minor": 5
}
